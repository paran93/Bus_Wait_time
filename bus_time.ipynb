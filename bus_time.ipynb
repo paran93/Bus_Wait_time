{
 "cells": [
  {
   "cell_type": "code",
   "execution_count": 1,
   "metadata": {},
   "outputs": [],
   "source": [
    "import numpy as np\n",
    "\n",
    "N = 500000  # number of buses\n",
    "tau = 20  # average minutes between arrivals\n",
    "\n",
    "rand = np.random.RandomState(42)  # universal random seed\n",
    "bus_arrival_times = N * tau * np.sort(rand.rand(N))"
   ]
  },
  {
   "cell_type": "code",
   "execution_count": 2,
   "metadata": {},
   "outputs": [
    {
     "data": {
      "text/plain": [
       "19.99996175122845"
      ]
     },
     "execution_count": 2,
     "metadata": {},
     "output_type": "execute_result"
    }
   ],
   "source": [
    "intervals = np.diff(bus_arrival_times)\n",
    "intervals.mean()"
   ]
  },
  {
   "cell_type": "code",
   "execution_count": 3,
   "metadata": {},
   "outputs": [],
   "source": [
    "def simulate_wait_times(arrival_times,\n",
    "                        rseed=8675309,  # Jenny's random seed\n",
    "                        n_passengers=500000):\n",
    "    rand = np.random.RandomState(rseed)\n",
    "    \n",
    "    arrival_times = np.asarray(arrival_times)\n",
    "    passenger_times = arrival_times.max() * rand.rand(n_passengers)\n",
    "\n",
    "    # find the index of the next bus for each simulated passenger\n",
    "    i = np.searchsorted(arrival_times, passenger_times, side='right')\n",
    "\n",
    "    return arrival_times[i] - passenger_times"
   ]
  },
  {
   "cell_type": "code",
   "execution_count": 4,
   "metadata": {},
   "outputs": [
    {
     "data": {
      "text/plain": [
       "20.060875881603547"
      ]
     },
     "execution_count": 4,
     "metadata": {},
     "output_type": "execute_result"
    }
   ],
   "source": [
    "wait_times = simulate_wait_times(bus_arrival_times)\n",
    "wait_times.mean()"
   ]
  }
 ],
 "metadata": {
  "kernelspec": {
   "display_name": "Python 3",
   "language": "python",
   "name": "python3"
  },
  "language_info": {
   "codemirror_mode": {
    "name": "ipython",
    "version": 3
   },
   "file_extension": ".py",
   "mimetype": "text/x-python",
   "name": "python",
   "nbconvert_exporter": "python",
   "pygments_lexer": "ipython3",
   "version": "3.7.7"
  }
 },
 "nbformat": 4,
 "nbformat_minor": 4
}
